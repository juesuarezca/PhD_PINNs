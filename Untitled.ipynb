{
 "cells": [
  {
   "cell_type": "code",
   "execution_count": 1,
   "metadata": {},
   "outputs": [
    {
     "name": "stdout",
     "output_type": "stream",
     "text": [
      "Defaulting to user installation because normal site-packages is not writeable\n",
      "\u001b[33mWARNING: Ignoring invalid distribution -umpy (/trinity/shared/pkg/devel/python/3.6.5/lib/python3.6/site-packages)\u001b[0m\n",
      "\u001b[31mERROR: Invalid requirement: '[pytorch]'\u001b[0m\n",
      "\u001b[33mWARNING: Ignoring invalid distribution -umpy (/trinity/shared/pkg/devel/python/3.6.5/lib/python3.6/site-packages)\u001b[0m\n"
     ]
    }
   ],
   "source": [
    "!pip install horovod [pytorch]"
   ]
  },
  {
   "cell_type": "code",
   "execution_count": null,
   "metadata": {},
   "outputs": [],
   "source": []
  }
 ],
 "metadata": {
  "kernelspec": {
   "display_name": "Python 3",
   "language": "python",
   "name": "python3"
  },
  "language_info": {
   "codemirror_mode": {
    "name": "ipython",
    "version": 3
   },
   "file_extension": ".py",
   "mimetype": "text/x-python",
   "name": "python",
   "nbconvert_exporter": "python",
   "pygments_lexer": "ipython3",
   "version": "3.6.5"
  }
 },
 "nbformat": 4,
 "nbformat_minor": 4
}
